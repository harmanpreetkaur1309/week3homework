{
 "cells": [
  {
   "cell_type": "code",
   "execution_count": 16,
   "metadata": {},
   "outputs": [
    {
     "name": "stdout",
     "output_type": "stream",
     "text": [
      "['sa', 'ra', 'ga', 'ma', 'pa', 're']\n"
     ]
    }
   ],
   "source": [
    "## basic 1\n",
    "def differentList(givenList):\n",
    "    newList = list(dict.fromkeys(givenList))\n",
    "    return newList    \n",
    "\n",
    "List = ['sa','ra','ga','ga','ma','ma','pa','re']\n",
    "uniqueList = differentList(List)\n",
    "print(uniqueList)"
   ]
  },
  {
   "cell_type": "code",
   "execution_count": 20,
   "metadata": {},
   "outputs": [
    {
     "name": "stdout",
     "output_type": "stream",
     "text": [
      "given a number 16\n",
      "False\n"
     ]
    }
   ],
   "source": [
    "## basic 2\n",
    "def find(ordered_list, element_to_find):\n",
    "  for element in ordered_list:\n",
    "    if element == element_to_find:\n",
    "      return True\n",
    "  return False\n",
    "\n",
    "\n",
    "alist = ['1','4','9','16','25','36','49','64','81','100']\n",
    "number = input(\"given a number\")\n",
    "print(find(alist,number))"
   ]
  },
  {
   "cell_type": "code",
   "execution_count": 26,
   "metadata": {},
   "outputs": [
    {
     "name": "stdout",
     "output_type": "stream",
     "text": [
      "[4, 16, 36, 64, 100]\n"
     ]
    }
   ],
   "source": [
    "## basic 3\n",
    "def evenlist(givenlist):\n",
    "    b = [i for i in a if i % 2 == 0]\n",
    "    return b \n",
    "\n",
    "a = [1, 4, 9, 16, 25, 36, 49, 64, 81, 100]\n",
    "print(evenlist(a)) "
   ]
  },
  {
   "cell_type": "code",
   "execution_count": 1,
   "metadata": {},
   "outputs": [
    {
     "name": "stdout",
     "output_type": "stream",
     "text": [
      "Guess my target number that is between 1 and 201 (inclusive).\n",
      "\n",
      "Your guess(1): 100\n",
      "too far lower your guess\n",
      "Your guess(2): 50\n",
      "too far lower your guess\n",
      "Your guess(3): 25\n",
      "too far up your guess\n",
      "Your guess(4): 30\n",
      "too far up your guess\n",
      "Your guess(5): 35\n",
      "nearby but lower your guess\n",
      "Your guess(6): 33\n",
      "nearby but lower your guess\n",
      "Your guess(7): 32\n",
      "nearby but lower your guess\n",
      "Your guess(8): 31\n",
      "bingo\n",
      "\n",
      "Thanks for playing.\n"
     ]
    }
   ],
   "source": [
    "## advance 1\n",
    "## guess with hints\n",
    "\n",
    "import random\n",
    " \n",
    "inclusive_range = (1 , 201)\n",
    " \n",
    "print(\"Guess my target number that is between %i and %i (inclusive).\\n\"\n",
    "      % inclusive_range)\n",
    "target = random.randint(*inclusive_range)\n",
    "answer, i = None, 0\n",
    "while answer != target:\n",
    "    i += 1\n",
    "    txt = input(\"Your guess(%i): \" % i)\n",
    "    try:\n",
    "        answer = int(txt)\n",
    "    except ValueError:\n",
    "        print(\"  I don't understand your input of '%s' ?\" % txt)\n",
    "        continue\n",
    "    \n",
    "    if answer == target:\n",
    "        print(\"bingo\")\n",
    "        \n",
    "    elif answer in range(target + 1 , target + 10):\n",
    "        print('nearby but lower your guess')\n",
    "        \n",
    "    \n",
    "    elif answer in range(target - 1 , target - 10):\n",
    "        print('up a bit')\n",
    "        \n",
    "    \n",
    "    elif(answer > target):\n",
    "        print('too far lower your guess' )\n",
    "        \n",
    "    \n",
    "    elif(answer < target):\n",
    "        print('too far up your guess' )\n",
    "        \n",
    "print(\"\\nThanks for playing.\")"
   ]
  },
  {
   "cell_type": "code",
   "execution_count": 4,
   "metadata": {},
   "outputs": [
    {
     "name": "stdout",
     "output_type": "stream",
     "text": [
      "Enter a number: 13\n",
      "The computer takes a guess... 23\n",
      "The computer takes a guess... 12\n",
      "The computer takes a guess... 18\n",
      "The computer takes a guess... 15\n",
      "The computer takes a guess... 14\n",
      "The computer guessed 13 and it was correct!\n"
     ]
    }
   ],
   "source": [
    "## advance 2\n",
    "## Program where computer guesses the number\n",
    "\n",
    "def computer_guess(num):\n",
    "    low = 1\n",
    "    high = 200\n",
    "    # This will make the computer's first guess random\n",
    "    guess = random.randint(1,201)\n",
    "    while guess != num:\n",
    "        print(\"The computer takes a guess...\", guess)\n",
    "        if guess > num:\n",
    "            high = guess\n",
    "        elif guess < num:\n",
    "            low = guess + 1\n",
    "        guess = (low+high)//2    \n",
    "\n",
    "    print(\"The computer guessed\", guess, \"and it was correct!\")\n",
    "num = int(input(\"Enter a number: \"))\n",
    "if num < 1 or num > 201:\n",
    "    print(\"Must be in range [1, 200]\")\n",
    "else:\n",
    "    computer_guess(num)"
   ]
  }
 ],
 "metadata": {
  "kernelspec": {
   "display_name": "Python 3",
   "language": "python",
   "name": "python3"
  },
  "language_info": {
   "codemirror_mode": {
    "name": "ipython",
    "version": 3
   },
   "file_extension": ".py",
   "mimetype": "text/x-python",
   "name": "python",
   "nbconvert_exporter": "python",
   "pygments_lexer": "ipython3",
   "version": "3.7.3"
  }
 },
 "nbformat": 4,
 "nbformat_minor": 2
}
